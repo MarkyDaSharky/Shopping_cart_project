{
 "cells": [
  {
   "cell_type": "code",
   "execution_count": 6,
   "id": "1f9e7065",
   "metadata": {},
   "outputs": [
    {
     "name": "stdout",
     "output_type": "stream",
     "text": [
      "Thank you for your purchase!\n",
      " Here's your receipt:\n",
      "apple - 1 X $1.50\n",
      "Your subtotal for apple is $1.50\n",
      "banana - 4 X $0.59\n",
      "Your subtotal for banana is $2.36\n",
      "pineapple - 5 X $2.75\n",
      "Your subtotal for pineapple is $13.75\n"
     ]
    }
   ],
   "source": [
    "from IPython.display import clear_output\n",
    "\n",
    "\n",
    "\n",
    "\n",
    "\n",
    "def shopping_cart():\n",
    "    #empty dictionary\n",
    "    shopping_cart = {}\n",
    "    finish_message = \"Thank you for your purchase!\\n Here's your receipt:\"\n",
    "    #while loop\n",
    "    while True:\n",
    "        #start of function to ask user to add a contact or quit the loop\n",
    "        Question = input('Would you like to add/show/remove/quit? ').lower()\n",
    "        if Question == 'quit':\n",
    "            break\n",
    "        #If user \"add\" bring up new inputs for user to add items and cost as a key and value to dict\n",
    "        elif Question == 'add':\n",
    "            item = input('What would you like to add? ')\n",
    "            quantity = int(input(f\"How many {item}'s would you like to add? \"))\n",
    "            cost = float(input(f'How much does {item} cost? '))\n",
    "        #add user's input of item and cost to empty dictionary shopping_cart{}\n",
    "            shopping_cart[item] = [quantity, cost]\n",
    "        elif Question == 'show':\n",
    "            print('Current shopping cart')\n",
    "            for item in shopping_cart.keys():\n",
    "                print(f'{item} - {shopping_cart[item][0]} X ${shopping_cart[item][1]:.2f}')\n",
    "        #user input 'remove' we remove item from cart\n",
    "        elif Question == 'remove':\n",
    "            remove = input('Which item would you like to remove from your cart?').lower()\n",
    "            del shopping_cart[remove]\n",
    "        elif Question != 'quit':\n",
    "            print('Please enter a valid response')\n",
    "    clear_output()\n",
    "    print(finish_message)\n",
    "    for item, cost in shopping_cart.items():\n",
    "                subtotal = shopping_cart[item][0]*shopping_cart[item][1]\n",
    "                print(f'{item} - {shopping_cart[item][0]} X ${shopping_cart[item][1]:.2f}')\n",
    "                print(f'Your subtotal for {item} is ${subtotal:.2f}')\n",
    "shopping_cart()\n"
   ]
  },
  {
   "cell_type": "code",
   "execution_count": null,
   "id": "c66eb209",
   "metadata": {},
   "outputs": [],
   "source": []
  }
 ],
 "metadata": {
  "kernelspec": {
   "display_name": "Python 3 (ipykernel)",
   "language": "python",
   "name": "python3"
  },
  "language_info": {
   "codemirror_mode": {
    "name": "ipython",
    "version": 3
   },
   "file_extension": ".py",
   "mimetype": "text/x-python",
   "name": "python",
   "nbconvert_exporter": "python",
   "pygments_lexer": "ipython3",
   "version": "3.9.7"
  }
 },
 "nbformat": 4,
 "nbformat_minor": 5
}
